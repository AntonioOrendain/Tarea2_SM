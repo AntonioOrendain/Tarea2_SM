{
 "cells": [
  {
   "cell_type": "markdown",
   "metadata": {},
   "source": [
    "## Por qué el entrenamiento en Python vale la pena\n",
    "\n",
    "Primero hay que entender que los códigos están en constante cambios lo que los hace mas complicados o requieres adquirir nuevos conocimientos y entrenamiento cada que se actualizan, pero Python es diferente, lleva casi tres décadas con su mismo código, lo que o hace sólido y respetable. \n",
    "\n",
    "Python es básico, tanto así que ya viene instalado y preinstalado en varias computadoras o equipos. \n",
    "Otro punto importante a resaltar es que este código tiene muchos usos y día a día se vuelve en un competidor bastante agresivo, ya que su popularidad en los últimos años se ha incrementado sustanciosamente y va ganando terreno a ser el numero 1. \n",
    "\n",
    "\n",
    "## Python ha llevado la programación de computadoras a una gran audiencia nueva\n",
    "\n",
    "En 1989 el informático Guido Van Rossum se propuso crear un nuevo lenguaje de programación, esto para simplificarse muchas cosas que los existentes lo complicaban mucho, como, por ejemplo, ser más fácil de leer, dividir las códigos en trozos con sangrías y no hacerlo todo un revoltijo como los anteriores, que se pudiera crear un modulo de códigos personalizados, cada usuario podía crear los suyos y finalmente crearlo con un nombre corto y único, de donde nació Python. \n",
    "\n",
    "Después de muchos años después su inventor dice que no se esperaba la gran popularidad que ha logrado este lenguaje en todos los usuarios alrededor del mundo y que sigue creciendo hasta la fecha de ahora. \n",
    "\n",
    "\n",
    "\n"
   ]
  }
 ],
 "metadata": {
  "kernelspec": {
   "display_name": "Python 3",
   "language": "python",
   "name": "python3"
  },
  "language_info": {
   "codemirror_mode": {
    "name": "ipython",
    "version": 3
   },
   "file_extension": ".py",
   "mimetype": "text/x-python",
   "name": "python",
   "nbconvert_exporter": "python",
   "pygments_lexer": "ipython3",
   "version": "3.7.3"
  }
 },
 "nbformat": 4,
 "nbformat_minor": 2
}
